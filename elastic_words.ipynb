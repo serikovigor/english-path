{
 "cells": [
  {
   "cell_type": "code",
   "execution_count": 7,
   "metadata": {},
   "outputs": [],
   "source": [
    "import sys\n",
    "from elasticsearch import Elasticsearch\n",
    "import requests\n",
    "import lxml.html"
   ]
  },
  {
   "cell_type": "code",
   "execution_count": 8,
   "metadata": {},
   "outputs": [],
   "source": [
    "\n",
    "es = Elasticsearch()"
   ]
  },
  {
   "cell_type": "code",
   "execution_count": null,
   "metadata": {},
   "outputs": [],
   "source": []
  },
  {
   "cell_type": "code",
   "execution_count": 25,
   "metadata": {},
   "outputs": [],
   "source": [
    "body = {'query': {'bool': {'must': [{'range': {'len': {'gte': 35}}},\n",
    "    {'match': {'eng': {'query': 'big bear1',\n",
    "       'fuzziness': '0',\n",
    "       'minimum_should_match': 2}}}]}},\n",
    " 'from': 0,\n",
    " 'size': 10,\n",
    " 'sort': ['_score', {'len': {'order': 'asc'}}]}"
   ]
  },
  {
   "cell_type": "code",
   "execution_count": 17,
   "metadata": {},
   "outputs": [],
   "source": [
    "def filter_sentences(res):\n",
    "    return True"
   ]
  },
  {
   "cell_type": "code",
   "execution_count": 18,
   "metadata": {},
   "outputs": [],
   "source": [
    "def get_xpath(num):\n",
    "    return '/html/body/div[3]/div[3]/div[5]/div[1]/ol[1]/li[%d]/a/text()' % num\n",
    "\n",
    "\n",
    "def get_translate(word: str):\n",
    "    api = requests.get('https://ru.wiktionary.org/wiki/' + word)\n",
    "    tree = lxml.html.document_fromstring(api.text)\n",
    "    pos_num = 1\n",
    "    text_original = tree.xpath(get_xpath(pos_num))\n",
    "    res_trans = []\n",
    "    while len(text_original) > 0 and pos_num < 4:\n",
    "        res_trans.append(text_original[0])\n",
    "        pos_num += 1\n",
    "        text_original = tree.xpath(get_xpath(pos_num))\n",
    "\n",
    "    return res_trans"
   ]
  },
  {
   "cell_type": "code",
   "execution_count": 19,
   "metadata": {},
   "outputs": [],
   "source": [
    "def make_es_query(query):\n",
    "    q_len = len(query.split(' '))\n",
    "    body['query']['bool']['must'][1]['match']['eng']['query']=query\n",
    "    body['query']['bool']['must'][1]['match']['eng']['minimum_should_match']=q_len\n",
    "    res = es.search(index=\"words25\", body=body)\n",
    "    ret_List = []\n",
    "    #print (res)\n",
    "    for res1 in res['hits']['hits']:\n",
    "        #print (res1)\n",
    "        if filter_sentences(res1):\n",
    "            ret_List.append(res1)\n",
    "    \n",
    "    return ret_List"
   ]
  },
  {
   "cell_type": "code",
   "execution_count": 20,
   "metadata": {},
   "outputs": [],
   "source": [
    "def process_es_res(res):\n",
    "    if res:\n",
    "        print (res[0]['_source']['eng'])\n",
    "        print (res[0]['_source']['rus'])\n"
   ]
  },
  {
   "cell_type": "code",
   "execution_count": 21,
   "metadata": {},
   "outputs": [],
   "source": [
    "def list_words_from_file(file):\n",
    "    word_list = []\n",
    "    with open(file) as f:\n",
    "        for line in f:\n",
    "            word_list.append(line.strip('\\n'))\n",
    "    return word_list"
   ]
  },
  {
   "cell_type": "code",
   "execution_count": 28,
   "metadata": {},
   "outputs": [],
   "source": [
    "list_words = list_words_from_file('/home/igor/english/words/daily2.txt')"
   ]
  },
  {
   "cell_type": "code",
   "execution_count": 29,
   "metadata": {},
   "outputs": [
    {
     "name": "stdout",
     "output_type": "stream",
     "text": [
      "#####\n",
      "sophisticate\n",
      "усложнять\n",
      "#####\n",
      "confident\n",
      "уверенный\n",
      "He's smart, confident, really hard.\n",
      "Он умный, надежный, и очень горячий.\n",
      "#####\n",
      "unforseen\n",
      "\n",
      "#####\n",
      "whreabout\n",
      "\n",
      "#####\n",
      "appeal\n",
      "воззвание, просьба, привлекательность\n",
      "You told me you could arrange an appeal bond.\n",
      "Вы гoвopили, чтo вытащите егo дo суда.\n",
      "#####\n",
      "siloed\n",
      "\n",
      "#####\n",
      "annoy\n",
      "раздражать\n",
      "Does it annoy you to find out that you're wrong about something?\n",
      "Вас раздражает, когда вы ошибаетесь?\n",
      "#####\n",
      "tenacity\n",
      "цепкость, упорство, вязкость\n",
      "You need precision, tenacity, dedication.\n",
      "Здесь нужна аккуратность, твердость воли, посвящение..\n",
      "#####\n",
      "disheart\n",
      "\n",
      "#####\n",
      "find out\n",
      "понять, узнавать, вычитывать\n",
      "Does it annoy you to find out that you're wrong about something?\n",
      "Вас раздражает, когда вы ошибаетесь?\n",
      "I suppose we'd better find out if the report is accurate, or merely rumor.\n",
      "Я считаю, что нам нужно выяснить, правдивы наши донесения или это просто слухи.\n",
      "Now, while we're here, why don't you and I find out how they're going to steal it and why?\n",
      "А сейчас, пока мы здесь, почему бы нам с вами не узнать, как и почему они собираются ее украсть?\n",
      "Except for his family when they find out.\n",
      "Кроме его семьи, когда они все узнают.\n",
      "#####\n",
      "pretend\n",
      "притворяться, претендовать\n",
      "So you have to act really nonchalant, pretend I didn't ask you to find out.\n",
      "Так что ты должен делать все незаметно, чтобы никто не узнал о моей просьбе.\n",
      "You can't steal my life and pretend that it's yours.\n",
      "Ты не можешь украсть мою жизнь и притворяться, что она - твоя.\n",
      "#####\n",
      "bid\n",
      "приказывать, просить\n",
      "With a cash bid, we can steal this thing.\n",
      "Предложим наличные, и мы украдем эту штуку.\n",
      "#####\n",
      "concise\n",
      "краткий, чёткий\n",
      "Clear, concise, and completely plausible.\n",
      "Ясно, чётко и очень правдоподобно.\n",
      "#####\n",
      "except\n",
      "кроме\n",
      "Except for his family when they find out.\n",
      "Кроме его семьи, когда они все узнают.\n",
      "Except you're conscious, so we don't know what it means.\n",
      "Но вы находитесь в сознании, поэтому мы не знаем, что это значит.\n",
      "I would not change this hue, except to steal your thoughts, my gentle queen.\n",
      "Цвет мой изменить я только для того бы согласился, чтоб этим чувства у тебя похитить, о, нежная владычица моя!\n",
      "#####\n",
      "messy\n",
      "неряшливый, неряшливый, грязный\n",
      "Hickey can get awful messy, though.\n",
      "Хикки может устроить грязную бойню.\n",
      "#####\n",
      "deceive\n",
      "обманывать, изменять\n",
      "Why would they duplicate this village except to deceive the Ba'ku?\n",
      "Зачем им дублировать эту деревню? Ну, кроме того, чтобы обмануть Ба'ку?\n",
      "#####\n",
      "injure\n",
      "\n",
      "It's inexcusable to injure a guest.\n",
      "Поранить гостя - это непростительно.\n",
      "#####\n",
      "steal\n",
      "воровать, прокрадываться\n",
      "I would not change this hue, except to steal your thoughts, my gentle queen.\n",
      "Цвет мой изменить я только для того бы согласился, чтоб этим чувства у тебя похитить, о, нежная владычица моя!\n",
      "With a cash bid, we can steal this thing.\n",
      "Предложим наличные, и мы украдем эту штуку.\n",
      "You can't steal my life and pretend that it's yours.\n",
      "Ты не можешь украсть мою жизнь и притворяться, что она - твоя.\n",
      "Now, while we're here, why don't you and I find out how they're going to steal it and why?\n",
      "А сейчас, пока мы здесь, почему бы нам с вами не узнать, как и почему они собираются ее украсть?\n",
      "When you need to steal information in a hurry, just arrange the technology upgrade yourself.\n",
      "Так что если нужно срочно украсть инфу, просто организуй им внеплановый апгрейд по собственному почину.\n",
      "#####\n",
      "shallow\n",
      "мелкий, поверхностный\n",
      "I'll arrange to have the shallow boats prepared for dock.\n",
      "Я размещу, чтобы подготовить поверхностные лодки к доку.\n",
      "#####\n",
      "roof\n",
      "крыша, свод, потолок\n",
      "Beneath the roof of sleeping leaves\n",
      "Как был мягок голос твой чудесный\n",
      "#####\n",
      "conscious\n",
      "сознательный, сознающий\n",
      "The broken glass, the shallow cuts so I would remain conscious.\n",
      "Разбитое стекло, мелкие порезы так что я буду помнить ощущения.\n",
      "Except you're conscious, so we don't know what it means.\n",
      "Но вы находитесь в сознании, поэтому мы не знаем, что это значит.\n",
      "At times, it is a conscious or unconscious attempt to acquire social status.\n",
      "Порой это сознательная или неосознанная попытка поднять свой социальный статус.\n",
      "#####\n",
      "felon\n",
      "преступник\n",
      "A felon who wants to be a locksmith.\n",
      "Уголовник, который хочет быть слесарем.\n",
      "#####\n",
      "rumor\n",
      "слух\n",
      "I suppose we'd better find out if the report is accurate, or merely rumor.\n",
      "Я считаю, что нам нужно выяснить, правдивы наши донесения или это просто слухи.\n",
      "#####\n",
      "arrange\n",
      "приводить в порядок, классифицировать, устраивать\n",
      "I'll arrange to have the shallow boats prepared for dock.\n",
      "Я размещу, чтобы подготовить поверхностные лодки к доку.\n",
      "When you need to steal information in a hurry, just arrange the technology upgrade yourself.\n",
      "Так что если нужно срочно украсть инфу, просто организуй им внеплановый апгрейд по собственному почину.\n",
      "You told me you could arrange an appeal bond.\n",
      "Вы гoвopили, чтo вытащите егo дo суда.\n",
      "#####\n",
      "favour\n",
      "\n",
      "#####\n",
      "acquire\n",
      "обзаводиться, получать, запрашивать\n",
      "Why should I arrange that fifty years be spent secretly mining to acquire this mineral only to have it stolen?\n",
      "Почему я должен был провести 50 лет в шахтах, добывая этот минерал, только чтобы он был украден?\n",
      "At times, it is a conscious or unconscious attempt to acquire social status.\n",
      "Порой это сознательная или неосознанная попытка поднять свой социальный статус.\n",
      "#####\n",
      "ingest\n",
      "глотать\n",
      "So the victim just needs to ingest it.\n",
      "И жертве нужно просто проглотить их?\n",
      "#####\n"
     ]
    }
   ],
   "source": [
    "print ('#####')\n",
    "for i,word in enumerate(list_words):\n",
    "    print (word)\n",
    "    trans = get_translate(word)\n",
    "    print (\", \".join(trans))\n",
    "    # find 2 words\n",
    "    w2_found = False\n",
    "    for ii in range(1, len(list_words)-2):\n",
    "        query = f'{word} {list_words[i-ii]}'\n",
    "        res = make_es_query(query)\n",
    "        #print (query)\n",
    "        if res:\n",
    "            process_es_res(res)\n",
    "            w2_found = True\n",
    "    if not w2_found:\n",
    "        query = word\n",
    "        res = make_es_query(query)\n",
    "        process_es_res(res)\n",
    "    print ('#####')  \n",
    "        \n",
    "        "
   ]
  },
  {
   "cell_type": "code",
   "execution_count": 33,
   "metadata": {},
   "outputs": [
    {
     "data": {
      "text/plain": [
       "[]"
      ]
     },
     "execution_count": 33,
     "metadata": {},
     "output_type": "execute_result"
    }
   ],
   "source": [
    "res = make_es_query(\"whreabout\")\n",
    "res"
   ]
  },
  {
   "cell_type": "code",
   "execution_count": null,
   "metadata": {},
   "outputs": [],
   "source": []
  },
  {
   "cell_type": "code",
   "execution_count": null,
   "metadata": {},
   "outputs": [],
   "source": []
  },
  {
   "cell_type": "code",
   "execution_count": null,
   "metadata": {},
   "outputs": [],
   "source": []
  },
  {
   "cell_type": "code",
   "execution_count": null,
   "metadata": {},
   "outputs": [],
   "source": []
  },
  {
   "cell_type": "code",
   "execution_count": null,
   "metadata": {},
   "outputs": [],
   "source": []
  },
  {
   "cell_type": "code",
   "execution_count": null,
   "metadata": {},
   "outputs": [],
   "source": []
  },
  {
   "cell_type": "code",
   "execution_count": 31,
   "metadata": {},
   "outputs": [],
   "source": [
    "import string\n",
    "import re\n",
    "from nltk.corpus import stopwords\n",
    "import nltk\n",
    "from collections import Counter\n",
    "import operator\n",
    "from nltk.corpus import words"
   ]
  },
  {
   "cell_type": "code",
   "execution_count": 32,
   "metadata": {},
   "outputs": [],
   "source": [
    "stop_words = set(stopwords.words(\"english\"))\n",
    "punctuation_chars = string.punctuation.replace(\",\", \"\").replace(\"'\", \"\")\n",
    "english_words = set(words.words())"
   ]
  },
  {
   "cell_type": "code",
   "execution_count": 33,
   "metadata": {},
   "outputs": [],
   "source": [
    "def remove_punct(text):  \n",
    "    translator = str.maketrans(punctuation_chars, \".\"*len(punctuation_chars))\n",
    "    return text.translate(translator)"
   ]
  },
  {
   "cell_type": "code",
   "execution_count": 40,
   "metadata": {},
   "outputs": [],
   "source": [
    "def filter_string(txt,v=False):\n",
    "    \"\"\"return False - bad string\"\"\"\n",
    "    \n",
    "    txt = remove_punct(txt.lower())\n",
    "    if txt.count('.')>1:\n",
    "        return False, 'txt.count(\\'.\\')>1:'\n",
    "    # filter numbers\n",
    "    if bool(re.search(r'\\d', txt)):\n",
    "        return False, 'numbers'\n",
    "    # \n",
    "    txt = txt.replace('.','').replace(',','')\n",
    "    # -\n",
    "    txt_words = nltk.word_tokenize(txt)\n",
    "    if '.' in txt_words:\n",
    "        txt_words.remove('.')\n",
    "    if v: print (txt_words)\n",
    "    without_stop_words = [word for word in txt_words if not word in stop_words]\n",
    "    without_stop_words = [word for word in without_stop_words if '\\''not in word]\n",
    "    if v: print (without_stop_words)\n",
    "    if len(without_stop_words)<3:\n",
    "        return False , 'len(without_stop_words)<3'\n",
    "    if len(without_stop_words)>10:\n",
    "        return False,'len(without_stop_words)>10'\n",
    "    # -\n",
    "    without_not_eng_words = [word for word in without_stop_words if word in english_words]\n",
    "    if v: print (without_not_eng_words)\n",
    "    if len(without_stop_words)!=len(without_not_eng_words):\n",
    "        return False, \"without_not_eng_words\"\n",
    "    # -\n",
    "    counts = Counter(without_not_eng_words)\n",
    "    if counts.most_common(1)[0][1]>1:\n",
    "        return False, 'counts.most_common>1'\n",
    "    \n",
    "    \n",
    "    return True, ''\n",
    "    "
   ]
  },
  {
   "cell_type": "code",
   "execution_count": 41,
   "metadata": {},
   "outputs": [],
   "source": [
    "import re\n",
    "def double_check(string,substr):\n",
    "    return len([i for i in range(len(string)) if string.startswith(substr, i)])\n",
    "def filter_sentences(res):\n",
    "    #print (res)    \n",
    "    str2 = res['_source']['eng']\n",
    "    if  filter_string(str2)[0]==False:\n",
    "       return False\n",
    "    str2 = res['_source']['rus']\n",
    "    if  double_check(str2,\".\")>1:\n",
    "       return False\n",
    "    return True\n",
    "    "
   ]
  },
  {
   "cell_type": "code",
   "execution_count": null,
   "metadata": {},
   "outputs": [],
   "source": []
  },
  {
   "cell_type": "code",
   "execution_count": 26,
   "metadata": {},
   "outputs": [],
   "source": [
    "res = make_es_query(\"weird\")"
   ]
  },
  {
   "cell_type": "code",
   "execution_count": 27,
   "metadata": {},
   "outputs": [
    {
     "data": {
      "text/plain": [
       "[{'_index': 'words25',\n",
       "  '_type': '_doc',\n",
       "  '_id': '1070953',\n",
       "  '_score': 9.330822,\n",
       "  '_source': {'eng': '\"Some weird stuff, something secret',\n",
       "   'rus': '\"Прикольное место, секретная штука, ...\"',\n",
       "   'len': 35},\n",
       "  'sort': [9.330822, 35]},\n",
       " {'_index': 'words25',\n",
       "  '_type': '_doc',\n",
       "  '_id': '1331491',\n",
       "  '_score': 9.330822,\n",
       "  '_source': {'eng': \"You're probably feeling very weird.\",\n",
       "   'rus': '- Да. Твои ощущения очень странные.',\n",
       "   'len': 35},\n",
       "  'sort': [9.330822, 35]},\n",
       " {'_index': 'words25',\n",
       "  '_type': '_doc',\n",
       "  '_id': '1814344',\n",
       "  '_score': 9.330822,\n",
       "  '_source': {'eng': 'Something really weird is happening.',\n",
       "   'rus': 'Происходит что-то действительно странное.',\n",
       "   'len': 36},\n",
       "  'sort': [9.330822, 36]},\n",
       " {'_index': 'words25',\n",
       "  '_type': '_doc',\n",
       "  '_id': '433364',\n",
       "  '_score': 8.869225,\n",
       "  '_source': {'eng': \"Anyway, that's where it gets weird.\",\n",
       "   'rus': 'Короче, тут начинается самое странное.',\n",
       "   'len': 35},\n",
       "  'sort': [8.869225, 35]},\n",
       " {'_index': 'words25',\n",
       "  '_type': '_doc',\n",
       "  '_id': '451790',\n",
       "  '_score': 8.869225,\n",
       "  '_source': {'eng': \"You're really weird, you know that?\",\n",
       "   'rus': 'Тебе говорили, что ты со странностями?',\n",
       "   'len': 35},\n",
       "  'sort': [8.869225, 35]},\n",
       " {'_index': 'words25',\n",
       "  '_type': '_doc',\n",
       "  '_id': '830465',\n",
       "  '_score': 8.869225,\n",
       "  '_source': {'eng': \"He's been acting serious and weird.\",\n",
       "   'rus': 'Он какой-то странный.',\n",
       "   'len': 35},\n",
       "  'sort': [8.869225, 35]},\n",
       " {'_index': 'words25',\n",
       "  '_type': '_doc',\n",
       "  '_id': '844440',\n",
       "  '_score': 8.869225,\n",
       "  '_source': {'eng': 'Their reunion must have been weird.',\n",
       "   'rus': 'Их встреча должна была быть странной.',\n",
       "   'len': 35},\n",
       "  'sort': [8.869225, 35]},\n",
       " {'_index': 'words25',\n",
       "  '_type': '_doc',\n",
       "  '_id': '1180120',\n",
       "  '_score': 8.869225,\n",
       "  '_source': {'eng': \"Even for Jenny, she's acting weird.\",\n",
       "   'rus': 'Она ведет себя странно даже для себя.',\n",
       "   'len': 35},\n",
       "  'sort': [8.869225, 35]},\n",
       " {'_index': 'words25',\n",
       "  '_type': '_doc',\n",
       "  '_id': '1199137',\n",
       "  '_score': 8.869225,\n",
       "  '_source': {'eng': 'Sam, people have weird dreams, man.',\n",
       "   'rus': 'Многим людям снятся странные сны, старик.',\n",
       "   'len': 35},\n",
       "  'sort': [8.869225, 35]},\n",
       " {'_index': 'words25',\n",
       "  '_type': '_doc',\n",
       "  '_id': '1255123',\n",
       "  '_score': 8.869225,\n",
       "  '_source': {'eng': 'Dead people have weird dreams, man.',\n",
       "   'rus': 'Странные сны. - Только мертвые не видят снов.',\n",
       "   'len': 35},\n",
       "  'sort': [8.869225, 35]}]"
      ]
     },
     "execution_count": 27,
     "metadata": {},
     "output_type": "execute_result"
    }
   ],
   "source": [
    "res\n",
    "    "
   ]
  },
  {
   "cell_type": "code",
   "execution_count": null,
   "metadata": {},
   "outputs": [],
   "source": []
  },
  {
   "cell_type": "code",
   "execution_count": 19,
   "metadata": {},
   "outputs": [],
   "source": [
    "\n",
    "        \n",
    "    "
   ]
  },
  {
   "cell_type": "code",
   "execution_count": 20,
   "metadata": {},
   "outputs": [],
   "source": []
  },
  {
   "cell_type": "code",
   "execution_count": 21,
   "metadata": {},
   "outputs": [],
   "source": []
  },
  {
   "cell_type": "code",
   "execution_count": null,
   "metadata": {},
   "outputs": [],
   "source": []
  },
  {
   "cell_type": "code",
   "execution_count": null,
   "metadata": {},
   "outputs": [],
   "source": [
    "\n",
    "    "
   ]
  },
  {
   "cell_type": "code",
   "execution_count": 194,
   "metadata": {},
   "outputs": [
    {
     "data": {
      "text/plain": [
       "4"
      ]
     },
     "execution_count": 194,
     "metadata": {},
     "output_type": "execute_result"
    }
   ],
   "source": [
    "x = [1,2,3,4,5]\n",
    "x[-2]"
   ]
  },
  {
   "cell_type": "code",
   "execution_count": 397,
   "metadata": {},
   "outputs": [
    {
     "ename": "UnboundLocalError",
     "evalue": "local variable '_str' referenced before assignment",
     "output_type": "error",
     "traceback": [
      "\u001b[0;31m---------------------------------------------------------------------------\u001b[0m",
      "\u001b[0;31mUnboundLocalError\u001b[0m                         Traceback (most recent call last)",
      "\u001b[0;32m<ipython-input-397-ce0500848ba6>\u001b[0m in \u001b[0;36m<module>\u001b[0;34m\u001b[0m\n\u001b[0;32m----> 1\u001b[0;31m \u001b[0mres\u001b[0m \u001b[0;34m=\u001b[0m \u001b[0mmake_es_query\u001b[0m\u001b[0;34m(\u001b[0m\u001b[0;34m\"regard\"\u001b[0m\u001b[0;34m)\u001b[0m\u001b[0;34m\u001b[0m\u001b[0;34m\u001b[0m\u001b[0m\n\u001b[0m",
      "\u001b[0;32m<ipython-input-374-306d314f57d3>\u001b[0m in \u001b[0;36mmake_es_query\u001b[0;34m(query)\u001b[0m\n\u001b[1;32m      8\u001b[0m     \u001b[0;32mfor\u001b[0m \u001b[0mres1\u001b[0m \u001b[0;32min\u001b[0m \u001b[0mres\u001b[0m\u001b[0;34m[\u001b[0m\u001b[0;34m'hits'\u001b[0m\u001b[0;34m]\u001b[0m\u001b[0;34m[\u001b[0m\u001b[0;34m'hits'\u001b[0m\u001b[0;34m]\u001b[0m\u001b[0;34m:\u001b[0m\u001b[0;34m\u001b[0m\u001b[0;34m\u001b[0m\u001b[0m\n\u001b[1;32m      9\u001b[0m         \u001b[0;31m#print (res1)\u001b[0m\u001b[0;34m\u001b[0m\u001b[0;34m\u001b[0m\u001b[0;34m\u001b[0m\u001b[0m\n\u001b[0;32m---> 10\u001b[0;31m         \u001b[0;32mif\u001b[0m \u001b[0mfilter_sentences\u001b[0m\u001b[0;34m(\u001b[0m\u001b[0mres1\u001b[0m\u001b[0;34m[\u001b[0m\u001b[0;34m'_source'\u001b[0m\u001b[0;34m]\u001b[0m\u001b[0;34m[\u001b[0m\u001b[0;34m'eng'\u001b[0m\u001b[0;34m]\u001b[0m\u001b[0;34m)\u001b[0m\u001b[0;34m:\u001b[0m\u001b[0;34m\u001b[0m\u001b[0;34m\u001b[0m\u001b[0m\n\u001b[0m\u001b[1;32m     11\u001b[0m             \u001b[0mret_List\u001b[0m\u001b[0;34m.\u001b[0m\u001b[0mappend\u001b[0m\u001b[0;34m(\u001b[0m\u001b[0mres1\u001b[0m\u001b[0;34m)\u001b[0m\u001b[0;34m\u001b[0m\u001b[0;34m\u001b[0m\u001b[0m\n\u001b[1;32m     12\u001b[0m \u001b[0;34m\u001b[0m\u001b[0m\n",
      "\u001b[0;32m<ipython-input-390-a64e0d131f17>\u001b[0m in \u001b[0;36mfilter_sentences\u001b[0;34m(res)\u001b[0m\n\u001b[1;32m      3\u001b[0m     \u001b[0;32mreturn\u001b[0m \u001b[0mlen\u001b[0m\u001b[0;34m(\u001b[0m\u001b[0;34m[\u001b[0m\u001b[0mi\u001b[0m \u001b[0;32mfor\u001b[0m \u001b[0mi\u001b[0m \u001b[0;32min\u001b[0m \u001b[0mrange\u001b[0m\u001b[0;34m(\u001b[0m\u001b[0mlen\u001b[0m\u001b[0;34m(\u001b[0m\u001b[0mstring\u001b[0m\u001b[0;34m)\u001b[0m\u001b[0;34m)\u001b[0m \u001b[0;32mif\u001b[0m \u001b[0mstring\u001b[0m\u001b[0;34m.\u001b[0m\u001b[0mstartswith\u001b[0m\u001b[0;34m(\u001b[0m\u001b[0msubstr\u001b[0m\u001b[0;34m,\u001b[0m \u001b[0mi\u001b[0m\u001b[0;34m)\u001b[0m\u001b[0;34m]\u001b[0m\u001b[0;34m)\u001b[0m\u001b[0;34m\u001b[0m\u001b[0;34m\u001b[0m\u001b[0m\n\u001b[1;32m      4\u001b[0m \u001b[0;32mdef\u001b[0m \u001b[0mfilter_sentences\u001b[0m\u001b[0;34m(\u001b[0m\u001b[0mres\u001b[0m\u001b[0;34m)\u001b[0m\u001b[0;34m:\u001b[0m\u001b[0;34m\u001b[0m\u001b[0;34m\u001b[0m\u001b[0m\n\u001b[0;32m----> 5\u001b[0;31m      \u001b[0mprint\u001b[0m \u001b[0;34m(\u001b[0m\u001b[0m_str\u001b[0m\u001b[0;34m)\u001b[0m\u001b[0;34m\u001b[0m\u001b[0;34m\u001b[0m\u001b[0m\n\u001b[0m\u001b[1;32m      6\u001b[0m      \u001b[0m_str\u001b[0m \u001b[0;34m=\u001b[0m \u001b[0mres\u001b[0m\u001b[0;34m[\u001b[0m\u001b[0;34m'_source'\u001b[0m\u001b[0;34m]\u001b[0m\u001b[0;34m[\u001b[0m\u001b[0;34m'eng'\u001b[0m\u001b[0;34m]\u001b[0m\u001b[0;34m\u001b[0m\u001b[0;34m\u001b[0m\u001b[0m\n\u001b[1;32m      7\u001b[0m \u001b[0;34m\u001b[0m\u001b[0m\n",
      "\u001b[0;31mUnboundLocalError\u001b[0m: local variable '_str' referenced before assignment"
     ]
    }
   ],
   "source": [
    "res = make_es_query(\"regard\")\n"
   ]
  },
  {
   "cell_type": "code",
   "execution_count": 36,
   "metadata": {},
   "outputs": [
    {
     "data": {
      "text/plain": [
       "['wqdqwd', ',', 'qwfwqf', '.']"
      ]
     },
     "execution_count": 36,
     "metadata": {},
     "output_type": "execute_result"
    }
   ],
   "source": [
    "nltk.word_tokenize(\"wqdqwd, qwfwqf.\")"
   ]
  },
  {
   "cell_type": "code",
   "execution_count": null,
   "metadata": {},
   "outputs": [],
   "source": []
  },
  {
   "cell_type": "code",
   "execution_count": 393,
   "metadata": {},
   "outputs": [],
   "source": [
    "res = es.search(index=\"wwwords\", body=body)"
   ]
  },
  {
   "cell_type": "code",
   "execution_count": 5,
   "metadata": {},
   "outputs": [
    {
     "name": "stderr",
     "output_type": "stream",
     "text": [
      "[nltk_data] Downloading package stopwords to /home/igor/nltk_data...\n",
      "[nltk_data]   Package stopwords is already up-to-date!\n"
     ]
    },
    {
     "data": {
      "text/plain": [
       "True"
      ]
     },
     "execution_count": 5,
     "metadata": {},
     "output_type": "execute_result"
    }
   ],
   "source": [
    "import nltk\n",
    "nltk.download(\"stopwords\")"
   ]
  },
  {
   "cell_type": "code",
   "execution_count": 26,
   "metadata": {},
   "outputs": [
    {
     "name": "stderr",
     "output_type": "stream",
     "text": [
      "[nltk_data] Downloading package punkt to /home/igor/nltk_data...\n",
      "[nltk_data]   Package punkt is already up-to-date!\n",
      "[nltk_data] Downloading package brown to /home/igor/nltk_data...\n",
      "[nltk_data]   Package brown is already up-to-date!\n",
      "[nltk_data] Downloading package words to /home/igor/nltk_data...\n",
      "[nltk_data]   Unzipping corpora/words.zip.\n"
     ]
    },
    {
     "data": {
      "text/plain": [
       "True"
      ]
     },
     "execution_count": 26,
     "metadata": {},
     "output_type": "execute_result"
    }
   ],
   "source": [
    "nltk.download('punkt')\n",
    "nltk.download('brown')\n",
    "nltk.download('words')"
   ]
  },
  {
   "cell_type": "code",
   "execution_count": 6,
   "metadata": {},
   "outputs": [],
   "source": [
    "from nltk.corpus import stopwords"
   ]
  },
  {
   "cell_type": "code",
   "execution_count": 11,
   "metadata": {},
   "outputs": [
    {
     "data": {
      "text/plain": [
       "['i', 'me']"
      ]
     },
     "execution_count": 11,
     "metadata": {},
     "output_type": "execute_result"
    }
   ],
   "source": [
    "stopwords.words(\"english\")[:2]"
   ]
  },
  {
   "cell_type": "code",
   "execution_count": 15,
   "metadata": {},
   "outputs": [
    {
     "name": "stdout",
     "output_type": "stream",
     "text": [
      "['Backgammon', '-', 'one', 'oldest', 'known', 'board', 'games', '.']\n"
     ]
    }
   ],
   "source": [
    "stop_words = set(stopwords.words(\"english\"))\n",
    "sentence = \"Backgammon - is one of the oldest known board games.\"\n",
    "\n",
    "words = nltk.word_tokenize(sentence)\n",
    "without_stop_words = [word for word in words if not word in stop_words]\n",
    "print(without_stop_words)"
   ]
  },
  {
   "cell_type": "code",
   "execution_count": 16,
   "metadata": {},
   "outputs": [],
   "source": [
    "from nltk.corpus import brown"
   ]
  },
  {
   "cell_type": "code",
   "execution_count": 21,
   "metadata": {},
   "outputs": [
    {
     "data": {
      "text/plain": [
       "['The', 'Fulton', 'County', 'Grand', 'Jury', 'said', ...]"
      ]
     },
     "execution_count": 21,
     "metadata": {},
     "output_type": "execute_result"
    }
   ],
   "source": [
    "brown.words(categories='news')"
   ]
  },
  {
   "cell_type": "code",
   "execution_count": 22,
   "metadata": {},
   "outputs": [
    {
     "name": "stdout",
     "output_type": "stream",
     "text": [
      "The Fulton County Grand Jury said Friday an investigation of Atlanta's recent primary election produced `` no evidence '' that any irregularities took place .\n"
     ]
    }
   ],
   "source": [
    "for sent in brown.sents():\n",
    "    print(\" \".join(sent))\n",
    "    break"
   ]
  },
  {
   "cell_type": "code",
   "execution_count": 24,
   "metadata": {},
   "outputs": [],
   "source": [
    "from nltk.corpus import words"
   ]
  },
  {
   "cell_type": "code",
   "execution_count": 26,
   "metadata": {},
   "outputs": [
    {
     "data": {
      "text/plain": [
       "False"
      ]
     },
     "execution_count": 26,
     "metadata": {},
     "output_type": "execute_result"
    }
   ],
   "source": [
    "\"george\" in words.words()"
   ]
  },
  {
   "cell_type": "code",
   "execution_count": 78,
   "metadata": {},
   "outputs": [
    {
     "data": {
      "text/plain": [
       "list"
      ]
     },
     "execution_count": 78,
     "metadata": {},
     "output_type": "execute_result"
    }
   ],
   "source": [
    "type(cv)"
   ]
  },
  {
   "cell_type": "code",
   "execution_count": 31,
   "metadata": {},
   "outputs": [
    {
     "data": {
      "text/plain": [
       "236736"
      ]
     },
     "execution_count": 31,
     "metadata": {},
     "output_type": "execute_result"
    }
   ],
   "source": [
    "len(words.words())"
   ]
  },
  {
   "cell_type": "code",
   "execution_count": 32,
   "metadata": {},
   "outputs": [],
   "source": [
    "from nltk.corpus import brown\n",
    "\n"
   ]
  },
  {
   "cell_type": "code",
   "execution_count": 42,
   "metadata": {},
   "outputs": [],
   "source": [
    "#!pip install mosestokenizer"
   ]
  },
  {
   "cell_type": "code",
   "execution_count": 43,
   "metadata": {},
   "outputs": [],
   "source": []
  },
  {
   "cell_type": "code",
   "execution_count": 49,
   "metadata": {},
   "outputs": [],
   "source": [
    "#!pip install -U sacremoses"
   ]
  },
  {
   "cell_type": "code",
   "execution_count": null,
   "metadata": {},
   "outputs": [],
   "source": []
  },
  {
   "cell_type": "code",
   "execution_count": 61,
   "metadata": {},
   "outputs": [],
   "source": [
    "import googletrans\n",
    "from googletrans import Translator"
   ]
  },
  {
   "cell_type": "code",
   "execution_count": 69,
   "metadata": {},
   "outputs": [
    {
     "data": {
      "text/plain": [
       "'3.0.0'"
      ]
     },
     "execution_count": 69,
     "metadata": {},
     "output_type": "execute_result"
    }
   ],
   "source": []
  },
  {
   "cell_type": "code",
   "execution_count": 62,
   "metadata": {},
   "outputs": [],
   "source": []
  },
  {
   "cell_type": "code",
   "execution_count": null,
   "metadata": {},
   "outputs": [],
   "source": []
  },
  {
   "cell_type": "code",
   "execution_count": null,
   "metadata": {},
   "outputs": [],
   "source": []
  },
  {
   "cell_type": "code",
   "execution_count": null,
   "metadata": {},
   "outputs": [],
   "source": []
  }
 ],
 "metadata": {
  "kernelspec": {
   "display_name": "Python 3 (ipykernel)",
   "language": "python",
   "name": "python3"
  },
  "language_info": {
   "codemirror_mode": {
    "name": "ipython",
    "version": 3
   },
   "file_extension": ".py",
   "mimetype": "text/x-python",
   "name": "python",
   "nbconvert_exporter": "python",
   "pygments_lexer": "ipython3",
   "version": "3.7.10"
  }
 },
 "nbformat": 4,
 "nbformat_minor": 2
}
